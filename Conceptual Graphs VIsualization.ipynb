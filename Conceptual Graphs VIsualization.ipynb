{
 "cells": [
  {
   "cell_type": "markdown",
   "metadata": {},
   "source": [
    "![Grafeno logo](res/logo.svg \"Grafeno\")\n",
    "\n",
    "#                     Interactive Conceptual Graph visualization "
   ]
  },
  {
   "cell_type": "markdown",
   "metadata": {},
   "source": []
  },
  {
   "cell_type": "code",
   "execution_count": 13,
   "metadata": {},
   "outputs": [],
   "source": [
    "from grafeno import Graph\n",
    "from grafeno.transformers import get_pipeline\n",
    "from grafeno.jupyter import visualize"
   ]
  },
  {
   "cell_type": "code",
   "execution_count": 14,
   "metadata": {
    "scrolled": true
   },
   "outputs": [],
   "source": [
    "import yaml\n",
    "semantic_pipeline = yaml.load(open('configs/semantic.yaml'))\n",
    "T = get_pipeline(['spacy_parse']+semantic_pipeline.get('transformers'))"
   ]
  },
  {
   "cell_type": "markdown",
   "metadata": {},
   "source": [
    "### One sentence"
   ]
  },
  {
   "cell_type": "code",
   "execution_count": 15,
   "metadata": {},
   "outputs": [],
   "source": [
    "sentence = \"\"\"\n",
    "John writes a short program that works correctly and he comments his code like a good student.\n",
    "\"\"\""
   ]
  },
  {
   "cell_type": "code",
   "execution_count": 16,
   "metadata": {
    "scrolled": true
   },
   "outputs": [],
   "source": [
    "G1 = Graph(text=sentence, transformer=T)"
   ]
  },
  {
   "cell_type": "code",
   "execution_count": 17,
   "metadata": {
    "scrolled": true
   },
   "outputs": [
    {
     "data": {
      "text/html": [
       "<style>\n",
       "    #d3-container-4 {\n",
       "        display: block;\n",
       "        width: 100%;\n",
       "        padding-bottom: 75%;\n",
       "        border: 1px solid gray;\n",
       "        position: relative;\n",
       "    }\n",
       "    #d3-container-4 > div {\n",
       "        position: absolute;\n",
       "        display: block;\n",
       "        top: 0; right: 0; bottom: 0; left: 0;\n",
       "    }\n",
       "    #d3-container-4 svg {\n",
       "        width: 100%;\n",
       "        height: 100%;\n",
       "    }\n",
       "    .node circle {\n",
       "        stroke: #fff;\n",
       "        stroke-width: 2px;\n",
       "    }\n",
       "    .link path {\n",
       "        stroke: #333; stroke-width: 2px;\n",
       "        fill: none;\n",
       "        marker-end: url(#markerArrow);\n",
       "    }\n",
       "    .link text, .node text {\n",
       "        stroke: #fff;\n",
       "        paint-order: stroke;\n",
       "        stroke-width: 4px;\n",
       "        fill: #333;\n",
       "        text-anchor: middle;\n",
       "        dominant-baseline: middle;\n",
       "        font-weight: boldest;\n",
       "        pointer-events: none;\n",
       "    }\n",
       "    .marker {\n",
       "        fill: #333;\n",
       "    }\n",
       "</style>\n",
       "<div id=\"d3-container-4\">\n",
       "    <div>\n",
       "        <svg>\n",
       "            <defs>\n",
       "                <marker id=\"markerArrow\" markerWidth=\"6\" markerHeight=\"8\"\n",
       "                    orient=\"auto\" refX=\"21\" refY=\"3\">\n",
       "                    <path d=\"M0,3 L6,5 1,8\" />\n",
       "                </marker>\n",
       "            </defs>\n",
       "            <g id=\"graph-layer\"></g>\n",
       "        </svg>\n",
       "    </div>\n",
       "</div>\n",
       "<script>CreateGrafenoVisualization(4,JSON.parse('{\"nodes\": [{\"concept\": \"write\", \"id\": 0, \"sempos\": \"v\", \"tense\": null, \"polarity\": \"+\"}, {\"concept\": \"John\", \"id\": 1, \"sempos\": \"n\", \"proper\": false, \"num\": \"p\"}, {\"concept\": \"program\", \"id\": 2, \"sempos\": \"n\", \"proper\": false, \"num\": \"p\"}, {\"concept\": \"short\", \"id\": 3, \"sempos\": \"j\"}, {\"concept\": \"work\", \"id\": 4, \"sempos\": \"v\", \"tense\": null, \"polarity\": \"+\"}, {\"concept\": \"correctly\", \"id\": 5, \"sempos\": \"r\"}, {\"concept\": \"comment\", \"id\": 6, \"sempos\": \"v\", \"tense\": null, \"polarity\": \"+\"}, {\"concept\": \"code\", \"id\": 7, \"sempos\": \"n\", \"proper\": false, \"num\": \"p\"}, {\"concept\": \"student\", \"id\": 8, \"sempos\": \"n\", \"proper\": false, \"num\": \"p\"}, {\"concept\": \"good\", \"id\": 9, \"sempos\": \"j\"}], \"links\": [{\"source\": 0, \"target\": 1, \"functor\": \"AGENT\", \"weight\": 1.0}, {\"source\": 0, \"target\": 2, \"functor\": \"THEME\", \"weight\": 1.0}, {\"source\": 0, \"target\": 6, \"functor\": \"SEQ\"}, {\"source\": 2, \"target\": 3, \"functor\": \"ATTR\"}, {\"source\": 2, \"target\": 4, \"functor\": \"RESTR\"}, {\"source\": 4, \"target\": 2, \"functor\": \"AGENT\", \"weight\": 1.0}, {\"source\": 4, \"target\": 5, \"functor\": \"ATTR\"}, {\"source\": 6, \"target\": 7, \"functor\": \"THEME\", \"weight\": 1.0}, {\"source\": 8, \"target\": 9, \"functor\": \"ATTR\"}]}'))</script>"
      ],
      "text/plain": [
       "<IPython.core.display.HTML object>"
      ]
     },
     "execution_count": 17,
     "metadata": {},
     "output_type": "execute_result"
    }
   ],
   "source": [
    "visualize(G1)"
   ]
  },
  {
   "cell_type": "code",
   "execution_count": null,
   "metadata": {},
   "outputs": [],
   "source": []
  }
 ],
 "metadata": {
  "kernelspec": {
   "display_name": "Python 3",
   "language": "python",
   "name": "python3"
  },
  "language_info": {
   "codemirror_mode": {
    "name": "ipython",
    "version": 3
   },
   "file_extension": ".py",
   "mimetype": "text/x-python",
   "name": "python",
   "nbconvert_exporter": "python",
   "pygments_lexer": "ipython3",
   "version": "3.7.0"
  }
 },
 "nbformat": 4,
 "nbformat_minor": 2
}
