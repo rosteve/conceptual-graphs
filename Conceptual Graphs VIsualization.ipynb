{
 "cells": [
  {
   "cell_type": "markdown",
   "metadata": {},
   "source": [
    "![Grafeno logo](res/logo.svg \"Grafeno\")\n",
    "\n",
    "#                     Interactive Conceptual Graph visualization "
   ]
  },
  {
   "cell_type": "markdown",
   "metadata": {},
   "source": []
  },
  {
   "cell_type": "code",
   "execution_count": 2,
   "metadata": {},
   "outputs": [
    {
     "data": {
      "application/javascript": [
       "'use strict';\n",
       "\n",
       "var m; // workaround for a weird minimizer problem\n",
       "\n",
       "require.config({\n",
       "    paths: {\n",
       "        d3: '//cdnjs.cloudflare.com/ajax/libs/d3/3.4.8/d3.min'\n",
       "    }\n",
       "});\n",
       "\n",
       "window.CreateGrafenoVisualization = function (output_counter, graph) {\n",
       "\n",
       "    require(['d3'], function (d3) {\n",
       "        function node_color(node) {\n",
       "            switch (node.sempos) {\n",
       "                case 'n':\n",
       "                    return '#CF3C46';\n",
       "                case 'v':\n",
       "                    return '#44B033';\n",
       "                case 'j':\n",
       "                    return '#FBB136';\n",
       "                case 'r':\n",
       "                    return '#476FA5';\n",
       "            }\n",
       "        }\n",
       "        function link_distance(link) {\n",
       "            switch (link.functor) {\n",
       "                case 'SEQ':\n",
       "                    return 300;\n",
       "                case 'ATTR':\n",
       "                    return 80;\n",
       "                default:\n",
       "                    return 140;\n",
       "            }\n",
       "        }\n",
       "        function middle_point(s, t) {\n",
       "            var mx = (t.x + s.x) / 2,\n",
       "                my = (t.y + s.y) / 2,\n",
       "                dx = t.x - s.x,\n",
       "                dy = t.y - s.y;\n",
       "            return { x: mx + dy / 3,\n",
       "                y: my - dx / 3\n",
       "            };\n",
       "        }\n",
       "        var container = d3.select('#d3-container-' + output_counter).select(\"div\");\n",
       "        var _container$0$ = container[0][0],\n",
       "            w = _container$0$.clientWidth,\n",
       "            h = _container$0$.clientHeight;\n",
       "\n",
       "        var zoom = d3.behavior.zoom().scaleExtent([.5, 5]).size([w, h]).translate([w / 2, h / 2]).on('zoom', zoomed);\n",
       "        container.call(zoom);\n",
       "        var force = d3.layout.force().charge(-300).gravity(0.05).linkDistance(link_distance);\n",
       "        var svg = container.select(\"#graph-layer\");\n",
       "        function zoomed() {\n",
       "            force.stop();\n",
       "            var canvasTranslate = zoom.translate();\n",
       "            svg.attr('transform', 'translate(' + canvasTranslate[0] + ',' + canvasTranslate[1] + ')scale(' + zoom.scale() + ')');\n",
       "            force.resume();\n",
       "        }\n",
       "        zoomed();\n",
       "\n",
       "        force.nodes(graph.nodes).links(graph.links).start();\n",
       "        var link = svg.selectAll(\".link\").data(graph.links).enter().append(\"g\").attr(\"class\", \"link\");\n",
       "        link.append(\"path\");\n",
       "        link.append(\"text\").text(function (d) {\n",
       "            return d.functor;\n",
       "        });\n",
       "        var node = svg.selectAll(\".node\").data(graph.nodes).enter().append(\"g\").attr(\"class\", \"node\");\n",
       "        node.append(\"circle\").attr(\"r\", 30).style(\"fill\", node_color).call(force.drag).on('mousedown', function () {\n",
       "            return d3.event.stopPropagation();\n",
       "        });\n",
       "        node.append(\"text\").text(function (d) {\n",
       "            return d.concept;\n",
       "        }).attr(\"dx\", function (d) {\n",
       "            return d.x;\n",
       "        }).attr(\"dy\", function (d) {\n",
       "            return d.y;\n",
       "        });\n",
       "        node.append(\"title\").text(function (d) {\n",
       "            return d.concept;\n",
       "        });\n",
       "        force.on(\"tick\", function () {\n",
       "            link.select('path').attr(\"d\", function (d) {\n",
       "                var s = d.source,\n",
       "                    t = d.target;\n",
       "                m = middle_point(s, t);\n",
       "                return 'M' + s.x + ',' + s.y + ' Q' + m.x + ',' + m.y + ' ' + t.x + ',' + t.y;\n",
       "            });\n",
       "            link.select('text').attr(\"dx\", function (d) {\n",
       "                return middle_point(d.source, d.target).x;\n",
       "            }).attr(\"dy\", function (d) {\n",
       "                return middle_point(d.source, d.target).y;\n",
       "            });\n",
       "            node.select('circle').attr(\"cx\", function (d) {\n",
       "                return d.x;\n",
       "            }).attr(\"cy\", function (d) {\n",
       "                return d.y;\n",
       "            });\n",
       "            node.select('text').attr(\"dx\", function (d) {\n",
       "                return d.x;\n",
       "            }).attr(\"dy\", function (d) {\n",
       "                return d.y;\n",
       "            });\n",
       "        });\n",
       "    });\n",
       "};\n",
       "\n",
       "/* vim: set filetype=javascript : */\n"
      ],
      "text/plain": [
       "<IPython.core.display.Javascript object>"
      ]
     },
     "metadata": {},
     "output_type": "display_data"
    }
   ],
   "source": [
    "from grafeno import Graph\n",
    "from grafeno.transformers import get_pipeline\n",
    "from grafeno.jupyter import visualize"
   ]
  },
  {
   "cell_type": "code",
   "execution_count": 5,
   "metadata": {
    "scrolled": true
   },
   "outputs": [
    {
     "name": "stderr",
     "output_type": "stream",
     "text": [
      "/usr/local/lib/python3.7/site-packages/ipykernel_launcher.py:2: YAMLLoadWarning: calling yaml.load() without Loader=... is deprecated, as the default Loader is unsafe. Please read https://msg.pyyaml.org/load for full details.\n",
      "  \n"
     ]
    }
   ],
   "source": [
    "import yaml\n",
    "semantic_pipeline = yaml.load(open('configs/semantic.yaml'))\n",
    "T = get_pipeline(['spacy_parse']+semantic_pipeline.get('transformers'))"
   ]
  },
  {
   "cell_type": "markdown",
   "metadata": {},
   "source": [
    "### One sentence"
   ]
  },
  {
   "cell_type": "code",
   "execution_count": 6,
   "metadata": {},
   "outputs": [],
   "source": [
    "sentence = \"\"\"\n",
    "Diclogenta Eye drops contain diclofenac sodium, a non-steroidal anti-inflammatory drug (NSAID) with demonstrated anti-inflammatory and analgesic properties. It acts by inhibiting the enzyme cyclooxygenase, which is responsible for the biosynthesis of prostaglandins. \n",
    "Prostaglandins are the mediators of intra-ocular inflammation. They have been shown to cause disruption of the blood-aqueous humor barrier, cause vasodilatation, increase vascular permeability, leukocytosis and increased intra-ocular pressure. Being an NSAID, diclofenac is devoid of the side effects of steroids such as reduced immune response, raised intra-ocular pressure and cataract formation. Clinical studies demonstrate it to be equipotent to steroids in treating ocular conditions.\n",
    "\"\"\""
   ]
  },
  {
   "cell_type": "code",
   "execution_count": 7,
   "metadata": {
    "scrolled": true
   },
   "outputs": [
    {
     "ename": "AttributeError",
     "evalue": "'DiGraph' object has no attribute 'node'",
     "output_type": "error",
     "traceback": [
      "\u001b[0;31m---------------------------------------------------------------------------\u001b[0m",
      "\u001b[0;31mAttributeError\u001b[0m                            Traceback (most recent call last)",
      "\u001b[0;32m<ipython-input-7-a8a3ee65bf40>\u001b[0m in \u001b[0;36m<module>\u001b[0;34m\u001b[0m\n\u001b[0;32m----> 1\u001b[0;31m \u001b[0mG1\u001b[0m \u001b[0;34m=\u001b[0m \u001b[0mGraph\u001b[0m\u001b[0;34m(\u001b[0m\u001b[0mtext\u001b[0m\u001b[0;34m=\u001b[0m\u001b[0msentence\u001b[0m\u001b[0;34m,\u001b[0m \u001b[0mtransformer\u001b[0m\u001b[0;34m=\u001b[0m\u001b[0mT\u001b[0m\u001b[0;34m)\u001b[0m\u001b[0;34m\u001b[0m\u001b[0;34m\u001b[0m\u001b[0m\n\u001b[0m",
      "\u001b[0;32m~/Desktop/Projects/conceptual-graphs/grafeno/graph.py\u001b[0m in \u001b[0;36m__init__\u001b[0;34m(self, original, transformer, transformer_args, text, subgraph, from_networkx)\u001b[0m\n\u001b[1;32m     75\u001b[0m             \u001b[0mself\u001b[0m\u001b[0;34m.\u001b[0m\u001b[0m_g\u001b[0m \u001b[0;34m=\u001b[0m \u001b[0mnx\u001b[0m\u001b[0;34m.\u001b[0m\u001b[0mDiGraph\u001b[0m\u001b[0;34m(\u001b[0m\u001b[0;34m)\u001b[0m\u001b[0;34m\u001b[0m\u001b[0;34m\u001b[0m\u001b[0m\n\u001b[1;32m     76\u001b[0m         \u001b[0mself\u001b[0m\u001b[0;34m.\u001b[0m\u001b[0mgram\u001b[0m \u001b[0;34m=\u001b[0m \u001b[0mself\u001b[0m\u001b[0;34m.\u001b[0m\u001b[0m_g\u001b[0m\u001b[0;34m.\u001b[0m\u001b[0mgraph\u001b[0m\u001b[0;34m\u001b[0m\u001b[0;34m\u001b[0m\u001b[0m\n\u001b[0;32m---> 77\u001b[0;31m         \u001b[0mself\u001b[0m\u001b[0;34m.\u001b[0m\u001b[0mnode\u001b[0m \u001b[0;34m=\u001b[0m \u001b[0mself\u001b[0m\u001b[0;34m.\u001b[0m\u001b[0m_g\u001b[0m\u001b[0;34m.\u001b[0m\u001b[0mnode\u001b[0m\u001b[0;34m\u001b[0m\u001b[0;34m\u001b[0m\u001b[0m\n\u001b[0m\u001b[1;32m     78\u001b[0m         \u001b[0;32mif\u001b[0m \u001b[0mtransformer\u001b[0m\u001b[0;34m:\u001b[0m\u001b[0;34m\u001b[0m\u001b[0;34m\u001b[0m\u001b[0m\n\u001b[1;32m     79\u001b[0m             \u001b[0mself\u001b[0m\u001b[0;34m.\u001b[0m\u001b[0mtransformer\u001b[0m \u001b[0;34m=\u001b[0m \u001b[0mtransformer\u001b[0m\u001b[0;34m(\u001b[0m\u001b[0mgraph\u001b[0m\u001b[0;34m=\u001b[0m\u001b[0mself\u001b[0m\u001b[0;34m,\u001b[0m \u001b[0;34m**\u001b[0m\u001b[0mtransformer_args\u001b[0m\u001b[0;34m)\u001b[0m\u001b[0;34m\u001b[0m\u001b[0;34m\u001b[0m\u001b[0m\n",
      "\u001b[0;31mAttributeError\u001b[0m: 'DiGraph' object has no attribute 'node'"
     ]
    }
   ],
   "source": [
    "G1 = Graph(text=sentence, transformer=T)"
   ]
  },
  {
   "cell_type": "code",
   "execution_count": 17,
   "metadata": {
    "scrolled": true
   },
   "outputs": [
    {
     "data": {
      "text/html": [
       "<style>\n",
       "    #d3-container-4 {\n",
       "        display: block;\n",
       "        width: 100%;\n",
       "        padding-bottom: 75%;\n",
       "        border: 1px solid gray;\n",
       "        position: relative;\n",
       "    }\n",
       "    #d3-container-4 > div {\n",
       "        position: absolute;\n",
       "        display: block;\n",
       "        top: 0; right: 0; bottom: 0; left: 0;\n",
       "    }\n",
       "    #d3-container-4 svg {\n",
       "        width: 100%;\n",
       "        height: 100%;\n",
       "    }\n",
       "    .node circle {\n",
       "        stroke: #fff;\n",
       "        stroke-width: 2px;\n",
       "    }\n",
       "    .link path {\n",
       "        stroke: #333; stroke-width: 2px;\n",
       "        fill: none;\n",
       "        marker-end: url(#markerArrow);\n",
       "    }\n",
       "    .link text, .node text {\n",
       "        stroke: #fff;\n",
       "        paint-order: stroke;\n",
       "        stroke-width: 4px;\n",
       "        fill: #333;\n",
       "        text-anchor: middle;\n",
       "        dominant-baseline: middle;\n",
       "        font-weight: boldest;\n",
       "        pointer-events: none;\n",
       "    }\n",
       "    .marker {\n",
       "        fill: #333;\n",
       "    }\n",
       "</style>\n",
       "<div id=\"d3-container-4\">\n",
       "    <div>\n",
       "        <svg>\n",
       "            <defs>\n",
       "                <marker id=\"markerArrow\" markerWidth=\"6\" markerHeight=\"8\"\n",
       "                    orient=\"auto\" refX=\"21\" refY=\"3\">\n",
       "                    <path d=\"M0,3 L6,5 1,8\" />\n",
       "                </marker>\n",
       "            </defs>\n",
       "            <g id=\"graph-layer\"></g>\n",
       "        </svg>\n",
       "    </div>\n",
       "</div>\n",
       "<script>CreateGrafenoVisualization(4,JSON.parse('{\"nodes\": [{\"concept\": \"write\", \"id\": 0, \"sempos\": \"v\", \"tense\": null, \"polarity\": \"+\"}, {\"concept\": \"John\", \"id\": 1, \"sempos\": \"n\", \"proper\": false, \"num\": \"p\"}, {\"concept\": \"program\", \"id\": 2, \"sempos\": \"n\", \"proper\": false, \"num\": \"p\"}, {\"concept\": \"short\", \"id\": 3, \"sempos\": \"j\"}, {\"concept\": \"work\", \"id\": 4, \"sempos\": \"v\", \"tense\": null, \"polarity\": \"+\"}, {\"concept\": \"correctly\", \"id\": 5, \"sempos\": \"r\"}, {\"concept\": \"comment\", \"id\": 6, \"sempos\": \"v\", \"tense\": null, \"polarity\": \"+\"}, {\"concept\": \"code\", \"id\": 7, \"sempos\": \"n\", \"proper\": false, \"num\": \"p\"}, {\"concept\": \"student\", \"id\": 8, \"sempos\": \"n\", \"proper\": false, \"num\": \"p\"}, {\"concept\": \"good\", \"id\": 9, \"sempos\": \"j\"}], \"links\": [{\"source\": 0, \"target\": 1, \"functor\": \"AGENT\", \"weight\": 1.0}, {\"source\": 0, \"target\": 2, \"functor\": \"THEME\", \"weight\": 1.0}, {\"source\": 0, \"target\": 6, \"functor\": \"SEQ\"}, {\"source\": 2, \"target\": 3, \"functor\": \"ATTR\"}, {\"source\": 2, \"target\": 4, \"functor\": \"RESTR\"}, {\"source\": 4, \"target\": 2, \"functor\": \"AGENT\", \"weight\": 1.0}, {\"source\": 4, \"target\": 5, \"functor\": \"ATTR\"}, {\"source\": 6, \"target\": 7, \"functor\": \"THEME\", \"weight\": 1.0}, {\"source\": 8, \"target\": 9, \"functor\": \"ATTR\"}]}'))</script>"
      ],
      "text/plain": [
       "<IPython.core.display.HTML object>"
      ]
     },
     "execution_count": 17,
     "metadata": {},
     "output_type": "execute_result"
    }
   ],
   "source": [
    "visualize(G1)"
   ]
  },
  {
   "cell_type": "code",
   "execution_count": null,
   "metadata": {},
   "outputs": [],
   "source": []
  }
 ],
 "metadata": {
  "kernelspec": {
   "display_name": "Python 3",
   "language": "python",
   "name": "python3"
  },
  "language_info": {
   "codemirror_mode": {
    "name": "ipython",
    "version": 3
   },
   "file_extension": ".py",
   "mimetype": "text/x-python",
   "name": "python",
   "nbconvert_exporter": "python",
   "pygments_lexer": "ipython3",
   "version": "3.7.7"
  }
 },
 "nbformat": 4,
 "nbformat_minor": 2
}
