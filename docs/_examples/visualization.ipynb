{
 "cells": [
  {
   "cell_type": "markdown",
   "metadata": {},
   "source": [
    "![Grafeno logo](res/logo.svg \"Grafeno\")\n",
    "\n",
    "# Interactive visualization of grafeno Graphs"
   ]
  },
  {
   "cell_type": "markdown",
   "metadata": {},
   "source": [
    "We use the great D3 library: https://d3js.org/"
   ]
  },
  {
   "cell_type": "code",
   "execution_count": 1,
   "metadata": {},
   "outputs": [
    {
     "data": {
      "application/javascript": [
       "'use strict';\n",
       "\n",
       "var m; // workaround for a weird minimizer problem\n",
       "\n",
       "require.config({\n",
       "    paths: {\n",
       "        d3: '//cdnjs.cloudflare.com/ajax/libs/d3/3.4.8/d3.min'\n",
       "    }\n",
       "});\n",
       "\n",
       "window.CreateGrafenoVisualization = function (output_counter, graph) {\n",
       "\n",
       "    require(['d3'], function (d3) {\n",
       "        function node_color(node) {\n",
       "            switch (node.sempos) {\n",
       "                case 'n':\n",
       "                    return '#CF3C46';\n",
       "                case 'v':\n",
       "                    return '#44B033';\n",
       "                case 'j':\n",
       "                    return '#FBB136';\n",
       "                case 'r':\n",
       "                    return '#476FA5';\n",
       "            }\n",
       "        }\n",
       "        function link_distance(link) {\n",
       "            switch (link.functor) {\n",
       "                case 'SEQ':\n",
       "                    return 300;\n",
       "                case 'ATTR':\n",
       "                    return 80;\n",
       "                default:\n",
       "                    return 140;\n",
       "            }\n",
       "        }\n",
       "        function middle_point(s, t) {\n",
       "            var mx = (t.x + s.x) / 2,\n",
       "                my = (t.y + s.y) / 2,\n",
       "                dx = t.x - s.x,\n",
       "                dy = t.y - s.y;\n",
       "            return { x: mx + dy / 3,\n",
       "                y: my - dx / 3\n",
       "            };\n",
       "        }\n",
       "        var container = d3.select('#d3-container-' + output_counter).select(\"div\");\n",
       "        var _container$0$ = container[0][0],\n",
       "            w = _container$0$.clientWidth,\n",
       "            h = _container$0$.clientHeight;\n",
       "\n",
       "        var zoom = d3.behavior.zoom().scaleExtent([.5, 5]).size([w, h]).translate([w / 2, h / 2]).on('zoom', zoomed);\n",
       "        container.call(zoom);\n",
       "        var force = d3.layout.force().charge(-300).gravity(0.05).linkDistance(link_distance);\n",
       "        var svg = container.select(\"#graph-layer\");\n",
       "        function zoomed() {\n",
       "            force.stop();\n",
       "            var canvasTranslate = zoom.translate();\n",
       "            svg.attr('transform', 'translate(' + canvasTranslate[0] + ',' + canvasTranslate[1] + ')scale(' + zoom.scale() + ')');\n",
       "            force.resume();\n",
       "        }\n",
       "        zoomed();\n",
       "\n",
       "        force.nodes(graph.nodes).links(graph.links).start();\n",
       "        var link = svg.selectAll(\".link\").data(graph.links).enter().append(\"g\").attr(\"class\", \"link\");\n",
       "        link.append(\"path\");\n",
       "        link.append(\"text\").text(function (d) {\n",
       "            return d.functor;\n",
       "        });\n",
       "        var node = svg.selectAll(\".node\").data(graph.nodes).enter().append(\"g\").attr(\"class\", \"node\");\n",
       "        node.append(\"circle\").attr(\"r\", 30).style(\"fill\", node_color).call(force.drag).on('mousedown', function () {\n",
       "            return d3.event.stopPropagation();\n",
       "        });\n",
       "        node.append(\"text\").text(function (d) {\n",
       "            return d.concept;\n",
       "        }).attr(\"dx\", function (d) {\n",
       "            return d.x;\n",
       "        }).attr(\"dy\", function (d) {\n",
       "            return d.y;\n",
       "        });\n",
       "        node.append(\"title\").text(function (d) {\n",
       "            return d.concept;\n",
       "        });\n",
       "        force.on(\"tick\", function () {\n",
       "            link.select('path').attr(\"d\", function (d) {\n",
       "                var s = d.source,\n",
       "                    t = d.target;\n",
       "                m = middle_point(s, t);\n",
       "                return 'M' + s.x + ',' + s.y + ' Q' + m.x + ',' + m.y + ' ' + t.x + ',' + t.y;\n",
       "            });\n",
       "            link.select('text').attr(\"dx\", function (d) {\n",
       "                return middle_point(d.source, d.target).x;\n",
       "            }).attr(\"dy\", function (d) {\n",
       "                return middle_point(d.source, d.target).y;\n",
       "            });\n",
       "            node.select('circle').attr(\"cx\", function (d) {\n",
       "                return d.x;\n",
       "            }).attr(\"cy\", function (d) {\n",
       "                return d.y;\n",
       "            });\n",
       "            node.select('text').attr(\"dx\", function (d) {\n",
       "                return d.x;\n",
       "            }).attr(\"dy\", function (d) {\n",
       "                return d.y;\n",
       "            });\n",
       "        });\n",
       "    });\n",
       "};\n",
       "\n",
       "/* vim: set filetype=javascript : */\n"
      ],
      "text/plain": [
       "<IPython.core.display.Javascript object>"
      ]
     },
     "metadata": {},
     "output_type": "display_data"
    }
   ],
   "source": [
    "from grafeno import Graph\n",
    "from grafeno.transformers import get_pipeline\n",
    "from grafeno.jupyter import visualize"
   ]
  },
  {
   "cell_type": "code",
   "execution_count": 2,
   "metadata": {},
   "outputs": [],
   "source": [
    "import yaml\n",
    "semantic_pipeline = yaml.load(open('../../configs/semantic.yaml'))\n",
    "T = get_pipeline(['spacy_parse']+semantic_pipeline.get('transformers'))"
   ]
  },
  {
   "cell_type": "markdown",
   "metadata": {},
   "source": [
    "### One sentence"
   ]
  },
  {
   "cell_type": "code",
   "execution_count": 3,
   "metadata": {},
   "outputs": [],
   "source": [
    "sentence = \"\"\"\n",
    "John writes a short program that works correctly and he comments his code like a good student.\n",
    "\"\"\""
   ]
  },
  {
   "cell_type": "code",
   "execution_count": 4,
   "metadata": {},
   "outputs": [],
   "source": [
    "G1 = Graph(text=sentence, transformer=T)"
   ]
  },
  {
   "cell_type": "code",
   "execution_count": 5,
   "metadata": {},
   "outputs": [
    {
     "data": {
      "text/html": [
       "<style>\n",
       "    #d3-container-2 {\n",
       "        display: block;\n",
       "        width: 100%;\n",
       "        padding-bottom: 75%;\n",
       "        border: 1px solid gray;\n",
       "        position: relative;\n",
       "    }\n",
       "    #d3-container-2 > div {\n",
       "        position: absolute;\n",
       "        display: block;\n",
       "        top: 0; right: 0; bottom: 0; left: 0;\n",
       "    }\n",
       "    #d3-container-2 svg {\n",
       "        width: 100%;\n",
       "        height: 100%;\n",
       "    }\n",
       "    .node circle {\n",
       "        stroke: #fff;\n",
       "        stroke-width: 2px;\n",
       "    }\n",
       "    .link path {\n",
       "        stroke: #333; stroke-width: 2px;\n",
       "        fill: none;\n",
       "        marker-end: url(#markerArrow);\n",
       "    }\n",
       "    .link text, .node text {\n",
       "        stroke: #fff;\n",
       "        paint-order: stroke;\n",
       "        stroke-width: 4px;\n",
       "        fill: #333;\n",
       "        text-anchor: middle;\n",
       "        dominant-baseline: middle;\n",
       "        font-weight: boldest;\n",
       "        pointer-events: none;\n",
       "    }\n",
       "    .marker {\n",
       "        fill: #333;\n",
       "    }\n",
       "</style>\n",
       "<div id=\"d3-container-2\">\n",
       "    <div>\n",
       "        <svg>\n",
       "            <defs>\n",
       "                <marker id=\"markerArrow\" markerWidth=\"6\" markerHeight=\"8\"\n",
       "                    orient=\"auto\" refX=\"21\" refY=\"3\">\n",
       "                    <path d=\"M0,3 L6,5 1,8\" />\n",
       "                </marker>\n",
       "            </defs>\n",
       "            <g id=\"graph-layer\"></g>\n",
       "        </svg>\n",
       "    </div>\n",
       "</div>\n",
       "<script>CreateGrafenoVisualization(2,JSON.parse('{\"nodes\": [{\"id\": 0, \"sempos\": \"v\", \"tense\": null, \"polarity\": \"+\", \"concept\": \"write\"}, {\"id\": 1, \"sempos\": \"j\", \"concept\": \"short\"}, {\"id\": 2, \"sempos\": \"v\", \"tense\": null, \"polarity\": \"+\", \"concept\": \"work\"}, {\"id\": 3, \"sempos\": \"n\", \"num\": \"p\", \"proper\": false, \"concept\": \"john\"}, {\"id\": 4, \"sempos\": \"n\", \"num\": \"p\", \"proper\": false, \"concept\": \"student\"}, {\"id\": 5, \"sempos\": \"n\", \"num\": \"p\", \"proper\": false, \"concept\": \"code\"}, {\"id\": 6, \"sempos\": \"r\", \"concept\": \"correctly\"}, {\"id\": 7, \"sempos\": \"j\", \"concept\": \"-PRON-\"}, {\"id\": 8, \"sempos\": \"v\", \"tense\": null, \"polarity\": \"+\", \"concept\": \"comment\"}, {\"id\": 9, \"sempos\": \"j\", \"concept\": \"good\"}, {\"id\": 10, \"sempos\": \"n\", \"num\": \"p\", \"proper\": false, \"concept\": \"program\"}], \"links\": [{\"target\": 8, \"functor\": \"SEQ\", \"source\": 0}, {\"target\": 10, \"weight\": 1.0, \"functor\": \"THEME\", \"source\": 0}, {\"target\": 3, \"weight\": 1.0, \"functor\": \"AGENT\", \"source\": 0}, {\"target\": 10, \"weight\": 1.0, \"functor\": \"AGENT\", \"source\": 2}, {\"target\": 6, \"functor\": \"ATTR\", \"source\": 2}, {\"target\": 9, \"functor\": \"ATTR\", \"source\": 4}, {\"class\": \"like\", \"target\": 4, \"functor\": \"COMP\", \"source\": 8, \"pval\": \"like\"}, {\"target\": 5, \"weight\": 1.0, \"functor\": \"THEME\", \"source\": 8}, {\"target\": 1, \"functor\": \"ATTR\", \"source\": 10}, {\"target\": 2, \"functor\": \"RESTR\", \"source\": 10}]}'))</script>"
      ],
      "text/plain": [
       "<IPython.core.display.HTML object>"
      ]
     },
     "execution_count": 5,
     "metadata": {},
     "output_type": "execute_result"
    }
   ],
   "source": [
    "visualize(G1)"
   ]
  },
  {
   "cell_type": "markdown",
   "metadata": {},
   "source": [
    "### Bigger graph (from the simple.wikipedia page of AI)"
   ]
  },
  {
   "cell_type": "code",
   "execution_count": 6,
   "metadata": {},
   "outputs": [],
   "source": [
    "text = \"\"\"\n",
    "An extreme goal of AI research is to create computer programs that can learn, solve problems, and think logically.\n",
    "In practice, however, most applications have picked on problems which computers can do well.\n",
    "Searching data bases and doing calculations are things computers do better than people.\n",
    "On the other hand, \"perceiving its environment\" in any real sense is way beyond present-day computing.\n",
    "\"\"\""
   ]
  },
  {
   "cell_type": "code",
   "execution_count": 7,
   "metadata": {},
   "outputs": [],
   "source": [
    "G2 = Graph(text=text, transformer=T)"
   ]
  },
  {
   "cell_type": "code",
   "execution_count": 8,
   "metadata": {
    "scrolled": false
   },
   "outputs": [
    {
     "data": {
      "text/html": [
       "<style>\n",
       "    #d3-container-3 {\n",
       "        display: block;\n",
       "        width: 100%;\n",
       "        padding-bottom: 75%;\n",
       "        border: 1px solid gray;\n",
       "        position: relative;\n",
       "    }\n",
       "    #d3-container-3 > div {\n",
       "        position: absolute;\n",
       "        display: block;\n",
       "        top: 0; right: 0; bottom: 0; left: 0;\n",
       "    }\n",
       "    #d3-container-3 svg {\n",
       "        width: 100%;\n",
       "        height: 100%;\n",
       "    }\n",
       "    .node circle {\n",
       "        stroke: #fff;\n",
       "        stroke-width: 2px;\n",
       "    }\n",
       "    .link path {\n",
       "        stroke: #333; stroke-width: 2px;\n",
       "        fill: none;\n",
       "        marker-end: url(#markerArrow);\n",
       "    }\n",
       "    .link text, .node text {\n",
       "        stroke: #fff;\n",
       "        paint-order: stroke;\n",
       "        stroke-width: 4px;\n",
       "        fill: #333;\n",
       "        text-anchor: middle;\n",
       "        dominant-baseline: middle;\n",
       "        font-weight: boldest;\n",
       "        pointer-events: none;\n",
       "    }\n",
       "    .marker {\n",
       "        fill: #333;\n",
       "    }\n",
       "</style>\n",
       "<div id=\"d3-container-3\">\n",
       "    <div>\n",
       "        <svg>\n",
       "            <defs>\n",
       "                <marker id=\"markerArrow\" markerWidth=\"6\" markerHeight=\"8\"\n",
       "                    orient=\"auto\" refX=\"21\" refY=\"3\">\n",
       "                    <path d=\"M0,3 L6,5 1,8\" />\n",
       "                </marker>\n",
       "            </defs>\n",
       "            <g id=\"graph-layer\"></g>\n",
       "        </svg>\n",
       "    </div>\n",
       "</div>\n",
       "<script>CreateGrafenoVisualization(3,JSON.parse('{\"nodes\": [{\"id\": 0, \"sempos\": \"j\", \"concept\": \"extreme\"}, {\"id\": 1, \"sempos\": \"v\", \"tense\": null, \"polarity\": \"+\", \"concept\": \"create\"}, {\"id\": 2, \"sempos\": \"n\", \"num\": \"p\", \"proper\": false, \"concept\": \"computer\"}, {\"id\": 3, \"sempos\": \"r\", \"concept\": \"logically\"}, {\"id\": 4, \"sempos\": \"v\", \"tense\": null, \"polarity\": \"+\", \"concept\": \"be\"}, {\"id\": 5, \"sempos\": \"v\", \"tense\": null, \"polarity\": \"+\", \"concept\": \"think\"}, {\"id\": 6, \"sempos\": \"n\", \"num\": \"p\", \"proper\": false, \"concept\": \"program\"}, {\"id\": 7, \"sempos\": \"n\", \"num\": \"p\", \"proper\": false, \"concept\": \"goal\"}, {\"id\": 8, \"sempos\": \"v\", \"tense\": null, \"polarity\": \"+\", \"concept\": \"learn\"}, {\"id\": 9, \"sempos\": \"v\", \"tense\": null, \"polarity\": \"+\", \"concept\": \"solve\"}, {\"id\": 10, \"sempos\": \"n\", \"num\": \"p\", \"proper\": false, \"concept\": \"ai\"}, {\"id\": 11, \"sempos\": \"n\", \"num\": \"p\", \"proper\": false, \"concept\": \"problem\"}, {\"id\": 12, \"sempos\": \"v\", \"tense\": null, \"polarity\": \"+\", \"concept\": \"can\"}, {\"id\": 13, \"sempos\": \"n\", \"num\": \"p\", \"proper\": false, \"concept\": \"research\"}, {\"id\": 14, \"sempos\": \"n\", \"num\": \"p\", \"proper\": false, \"concept\": \"computer\"}, {\"id\": 15, \"sempos\": \"v\", \"tense\": null, \"polarity\": \"+\", \"concept\": \"do\"}, {\"id\": 16, \"sempos\": \"n\", \"num\": \"p\", \"proper\": false, \"concept\": \"problem\"}, {\"id\": 17, \"sempos\": \"v\", \"tense\": null, \"polarity\": \"+\", \"concept\": \"can\"}, {\"id\": 18, \"sempos\": \"n\", \"num\": \"p\", \"proper\": false, \"concept\": \"application\"}, {\"id\": 19, \"sempos\": \"n\", \"num\": \"p\", \"proper\": false, \"concept\": \"practice\"}, {\"id\": 20, \"sempos\": \"r\", \"concept\": \"however\"}, {\"id\": 21, \"sempos\": \"j\", \"concept\": \"most\"}, {\"id\": 22, \"sempos\": \"v\", \"tense\": null, \"polarity\": \"+\", \"aspect\": \"perfect\", \"concept\": \"pick\"}, {\"id\": 23, \"sempos\": \"r\", \"concept\": \"well\"}, {\"id\": 24, \"sempos\": \"n\", \"num\": \"p\", \"proper\": false, \"concept\": \"data\"}, {\"id\": 25, \"sempos\": \"v\", \"tense\": null, \"polarity\": \"+\", \"concept\": \"do\"}, {\"id\": 26, \"sempos\": \"v\", \"tense\": null, \"polarity\": \"+\", \"concept\": \"be\"}, {\"id\": 27, \"sempos\": \"n\", \"num\": \"p\", \"proper\": false, \"concept\": \"computer\"}, {\"id\": 28, \"sempos\": \"j\", \"concept\": \"good\"}, {\"id\": 29, \"sempos\": \"n\", \"num\": \"p\", \"proper\": false, \"concept\": \"thing\"}, {\"id\": 30, \"sempos\": \"n\", \"num\": \"p\", \"proper\": false, \"concept\": \"calculation\"}, {\"id\": 31, \"sempos\": \"v\", \"tense\": null, \"polarity\": \"+\", \"concept\": \"do\"}, {\"id\": 32, \"sempos\": \"n\", \"num\": \"p\", \"proper\": false, \"concept\": \"searching\"}, {\"id\": 33, \"sempos\": \"n\", \"num\": \"p\", \"proper\": false, \"concept\": \"people\"}, {\"id\": 34, \"sempos\": \"n\", \"num\": \"p\", \"proper\": false, \"concept\": \"base\"}, {\"id\": 35, \"sempos\": \"n\", \"num\": \"p\", \"proper\": false, \"concept\": \"sense\"}, {\"id\": 36, \"sempos\": \"n\", \"num\": \"p\", \"proper\": false, \"concept\": \"computing\"}, {\"id\": 37, \"sempos\": \"v\", \"tense\": null, \"polarity\": \"+\", \"concept\": \"perceive\"}, {\"id\": 38, \"sempos\": \"j\", \"concept\": \"other\"}, {\"id\": 39, \"sempos\": \"j\", \"concept\": \"present\"}, {\"id\": 40, \"sempos\": \"j\", \"concept\": \"real\"}, {\"id\": 41, \"sempos\": \"n\", \"num\": \"p\", \"proper\": false, \"concept\": \"hand\"}, {\"id\": 42, \"sempos\": \"n\", \"num\": \"p\", \"proper\": false, \"concept\": \"day\"}, {\"id\": 43, \"sempos\": \"n\", \"num\": \"p\", \"proper\": false, \"concept\": \"environment\"}, {\"id\": 44, \"sempos\": \"n\", \"num\": \"p\", \"proper\": false, \"concept\": \"way\"}, {\"id\": 45, \"sempos\": \"v\", \"tense\": null, \"polarity\": \"+\", \"concept\": \"be\"}, {\"id\": 46, \"sempos\": \"j\", \"concept\": \"-PRON-\"}], \"links\": [{\"target\": 6, \"weight\": 1.0, \"functor\": \"THEME\", \"source\": 1}, {\"target\": 1, \"functor\": \"COP\", \"source\": 4}, {\"target\": 7, \"weight\": 1.0, \"functor\": \"COP\", \"source\": 4}, {\"target\": 3, \"functor\": \"ATTR\", \"source\": 5}, {\"target\": 8, \"functor\": \"RESTR\", \"source\": 6}, {\"target\": 9, \"functor\": \"RESTR\", \"source\": 6}, {\"target\": 2, \"functor\": \"ATTR\", \"source\": 6}, {\"target\": 5, \"functor\": \"RESTR\", \"source\": 6}, {\"target\": 0, \"functor\": \"ATTR\", \"source\": 7}, {\"class\": \"of\", \"target\": 13, \"functor\": \"COMP\", \"source\": 7, \"pval\": \"of\"}, {\"target\": 9, \"functor\": \"SEQ\", \"source\": 8}, {\"target\": 5, \"functor\": \"SEQ\", \"source\": 8}, {\"target\": 6, \"weight\": 1.0, \"functor\": \"AGENT\", \"source\": 8}, {\"target\": 11, \"weight\": 1.0, \"functor\": \"THEME\", \"source\": 9}, {\"target\": 5, \"functor\": \"SEQ\", \"source\": 9}, {\"target\": 10, \"functor\": \"ATTR\", \"source\": 13}, {\"target\": 16, \"weight\": 1.0, \"functor\": \"THEME\", \"source\": 15}, {\"target\": 14, \"weight\": 1.0, \"functor\": \"AGENT\", \"source\": 15}, {\"target\": 23, \"functor\": \"ATTR\", \"source\": 15}, {\"target\": 15, \"functor\": \"RESTR\", \"source\": 16}, {\"target\": 21, \"functor\": \"ATTR\", \"source\": 18}, {\"class\": \"on\", \"target\": 16, \"functor\": \"COMP\", \"source\": 22, \"pval\": \"on\"}, {\"target\": 18, \"weight\": 1.0, \"functor\": \"AGENT\", \"source\": 22}, {\"class\": \"in\", \"target\": 19, \"functor\": \"COMP\", \"source\": 22, \"pval\": \"in\"}, {\"target\": 20, \"functor\": \"ATTR\", \"source\": 22}, {\"target\": 27, \"weight\": 1.0, \"functor\": \"AGENT\", \"source\": 25}, {\"target\": 32, \"weight\": 1.0, \"functor\": \"COP\", \"source\": 26}, {\"target\": 29, \"weight\": 1.0, \"functor\": \"COP\", \"source\": 26}, {\"target\": 31, \"weight\": 1.0, \"functor\": \"COP\", \"source\": 26}, {\"class\": \"than\", \"target\": 33, \"functor\": \"COMP\", \"source\": 28, \"pval\": \"than\"}, {\"target\": 25, \"functor\": \"RESTR\", \"source\": 29}, {\"target\": 30, \"weight\": 1.0, \"functor\": \"THEME\", \"source\": 31}, {\"target\": 34, \"functor\": \"ATTR\", \"source\": 32}, {\"target\": 24, \"functor\": \"ATTR\", \"source\": 34}, {\"target\": 40, \"functor\": \"ATTR\", \"source\": 35}, {\"target\": 42, \"functor\": \"ATTR\", \"source\": 36}, {\"class\": \"in\", \"target\": 35, \"functor\": \"COMP\", \"source\": 37, \"pval\": \"in\"}, {\"target\": 43, \"weight\": 1.0, \"functor\": \"THEME\", \"source\": 37}, {\"target\": 38, \"functor\": \"ATTR\", \"source\": 41}, {\"target\": 39, \"functor\": \"ATTR\", \"source\": 42}, {\"class\": \"on\", \"target\": 41, \"functor\": \"COP\", \"source\": 45, \"pval\": \"on\"}, {\"class\": \"beyond\", \"target\": 36, \"functor\": \"COP\", \"source\": 45, \"pval\": \"beyond\"}, {\"target\": 37, \"weight\": 1.0, \"functor\": \"COP\", \"source\": 45}]}'))</script>"
      ],
      "text/plain": [
       "<IPython.core.display.HTML object>"
      ]
     },
     "execution_count": 8,
     "metadata": {},
     "output_type": "execute_result"
    }
   ],
   "source": [
    "visualize(G2)"
   ]
  }
 ],
 "metadata": {
  "kernelspec": {
   "display_name": "Python 3",
   "language": "python",
   "name": "python3"
  },
  "language_info": {
   "codemirror_mode": {
    "name": "ipython",
    "version": 3
   },
   "file_extension": ".py",
   "mimetype": "text/x-python",
   "name": "python",
   "nbconvert_exporter": "python",
   "pygments_lexer": "ipython3",
   "version": "3.5.4"
  }
 },
 "nbformat": 4,
 "nbformat_minor": 2
}
