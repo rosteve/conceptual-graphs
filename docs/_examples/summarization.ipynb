{
 "cells": [
  {
   "cell_type": "markdown",
   "metadata": {},
   "source": [
    "# Summarization\n",
    "\n",
    "This pipeline takes a text and produces a short extractive summary."
   ]
  },
  {
   "cell_type": "code",
   "execution_count": 1,
   "metadata": {},
   "outputs": [],
   "source": [
    "from grafeno import pipeline"
   ]
  },
  {
   "cell_type": "code",
   "execution_count": 2,
   "metadata": {},
   "outputs": [],
   "source": [
    "import yaml\n",
    "config = yaml.load('''\n",
    "%YAML 1.2\n",
    "---\n",
    "# Summarizes a text by extracting the most relevant sentences.\n",
    "transformers:\n",
    "    - pos_extract\n",
    "    - sim_link\n",
    "    - extend\n",
    "    - unique\n",
    "    - sentences\n",
    "transformer_args:\n",
    "    sempos: { noun: n }\n",
    "    unique_gram: { hyper: [ True ] }\n",
    "    extended_sentence_edges: [ HYP ]\n",
    "operations:\n",
    "    - op: cluster\n",
    "      hubratio: 0.2\n",
    "#    - op: markov_cluster\n",
    "#      expand_factor: 10\n",
    "#      inflate_factor: 2\n",
    "#      max_loop: 10\n",
    "#      mult_factor: 1\n",
    "#    - op: louvain_cluster\n",
    "linearizers:\n",
    "    - cluster_extract\n",
    "linearizer_args:\n",
    "    summary_length: 50\n",
    "    summary_margin: 10\n",
    "    normalize_sentence_scores: True\n",
    "''')"
   ]
  },
  {
   "cell_type": "code",
   "execution_count": 3,
   "metadata": {},
   "outputs": [],
   "source": [
    "document = '''\n",
    "Hurricane Gilbert swept toward the Dominican Republic Sunday, and the Civil Defense alerted its heavily populated south coast to prepare for high winds, heavy rains and high seas. The storm was approaching from the southeast with sustained winds of 75 mph gusting to 92 mph. There is no need for alarm, Civil Defense Director Eugenio Cabral said in a television alert shortly before midnight Saturday. Cabral said residents of the province of Barahona should closely follow Gilbert's movement. An estimated 100,000 people live in the province, including 70,000 in the city of Barahona, about 125 miles west of Santo Domingo. Tropical Storm Gilbert formed in the eastern Caribbean and strengthened into a hurricane Saturday night. The National Hurricane Center in Miami reported its position at 2 a.m Sunday at latitude 16.1 north, longitude 67.5 west, about 140 miles south of Ponce, Puerto Rico, and 200 miles southeast of Santo Domingo. The National Weather Service in San Juan, Puerto Rico, said Gilbert was moving westward at 15 mph with a broad area of cloudiness and heavy weather rotating around the center of the storm. The weather service issued a flash flood watch for Puerto Rico and the Virgin Islands until at least 6 p.m Sunday. Strong winds associated with the Gilbert brought coastal flooding, strong southeast winds and up to 12 feet feet to Puerto Rico's south coast.  There were no reports of casualties. San Juan, on the north coast, had heavy rains and gusts Saturday, but they subsided during the night. On Saturday, Hurricane Florence was downgraded to a tropical storm and its remnants pushed inland from the U.S. Gulf Coast. Residents returned home, happy to find little damage from 80 mph winds and sheets of rain. Florence, the sixth named storm of the 1988 Atlantic storm season, was the second hurricane. The first, Debby, reached minimal hurricane strength briefly before hitting the Mexican coast last month.\n",
    "'''"
   ]
  },
  {
   "cell_type": "code",
   "execution_count": 4,
   "metadata": {},
   "outputs": [
    {
     "name": "stdout",
     "output_type": "stream",
     "text": [
      "Tropical Storm Gilbert formed in the eastern Caribbean and strengthened into a hurricane Saturday night.\n",
      "San Juan, on the north coast, had heavy rains and gusts Saturday, but they subsided during the night.\n",
      "The first, Debby, reached minimal hurricane strength briefly before hitting the Mexican coast last month.\n"
     ]
    }
   ],
   "source": [
    "res = pipeline.run({ **config, 'text': document })\n",
    "print(res)"
   ]
  }
 ],
 "metadata": {
  "kernelspec": {
   "display_name": "Python [conda env:grafeno]",
   "language": "python",
   "name": "conda-env-grafeno-py"
  },
  "language_info": {
   "codemirror_mode": {
    "name": "ipython",
    "version": 3
   },
   "file_extension": ".py",
   "mimetype": "text/x-python",
   "name": "python",
   "nbconvert_exporter": "python",
   "pygments_lexer": "ipython3",
   "version": "3.6.2"
  }
 },
 "nbformat": 4,
 "nbformat_minor": 2
}
